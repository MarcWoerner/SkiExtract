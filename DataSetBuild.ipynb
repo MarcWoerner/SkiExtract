{
 "cells": [
  {
   "cell_type": "markdown",
   "metadata": {},
   "source": [
    "## Building a First Data Set for Baselinemodel"
   ]
  },
  {
   "cell_type": "code",
   "execution_count": 17,
   "metadata": {},
   "outputs": [],
   "source": [
    "import cv2\n",
    "import mediapipe as mp\n",
    "import numpy as np\n",
    "import pandas as pd"
   ]
  },
  {
   "cell_type": "markdown",
   "metadata": {},
   "source": [
    "### Extracting Features using MediaPipe "
   ]
  },
  {
   "cell_type": "code",
   "execution_count": null,
   "metadata": {},
   "outputs": [
    {
     "name": "stderr",
     "output_type": "stream",
     "text": [
      "I0000 00:00:1734007327.560235 6405366 gl_context.cc:357] GL version: 2.1 (2.1 INTEL-20.7.2), renderer: Intel(R) Iris(TM) Plus Graphics OpenGL Engine\n",
      "W0000 00:00:1734007328.320732 6434429 inference_feedback_manager.cc:114] Feedback manager requires a model with a single signature inference. Disabling support for feedback tensors.\n",
      "W0000 00:00:1734007329.339211 6434429 inference_feedback_manager.cc:114] Feedback manager requires a model with a single signature inference. Disabling support for feedback tensors.\n"
     ]
    }
   ],
   "source": [
    "# Initialize Mediapipe Pose\n",
    "mp_drawing = mp.solutions.drawing_utils\n",
    "mp_pose = mp.solutions.pose\n",
    "\n",
    "image_path = \"/Volumes/ThesisUSB/AVP XC Skiing Data/Skating 2-1 armswing/ExtractedFrames/Niemeyer Linus_005.jpg\"  \n",
    "#g\n",
    "\n",
    "def extract_pose_features(image_path):\n",
    "    # Read the image\n",
    "    image = cv2.imread(image_path)\n",
    "\n",
    "    with mp_pose.Pose(\n",
    "        static_image_mode=True,\n",
    "        model_complexity=2, # BlazePose GHUM Heavy, BlazePose GHUM Full, BlazePose GHUM Lite (flags 0,1,2)\n",
    "        min_detection_confidence=0.5) as pose:\n",
    "\n",
    "        # Convert the image to RGB before processing\n",
    "        results = pose.process(cv2.cvtColor(image, cv2.COLOR_BGR2RGB))\n",
    "\n",
    "        if results.pose_landmarks:\n",
    "            pose_features = []\n",
    "            for landmark in results.pose_landmarks.landmark:\n",
    "                pose_features.extend([landmark.x, landmark.y, landmark.z, landmark.visibility])\n",
    "            \n",
    "            return np.array(pose_features)\n",
    "        else:\n",
    "            return None\n",
    "        \n",
    "test_feature_array = extract_pose_features(image_path)"
   ]
  },
  {
   "cell_type": "code",
   "execution_count": 20,
   "metadata": {},
   "outputs": [
    {
     "data": {
      "text/html": [
       "<div>\n",
       "<style scoped>\n",
       "    .dataframe tbody tr th:only-of-type {\n",
       "        vertical-align: middle;\n",
       "    }\n",
       "\n",
       "    .dataframe tbody tr th {\n",
       "        vertical-align: top;\n",
       "    }\n",
       "\n",
       "    .dataframe thead th {\n",
       "        text-align: right;\n",
       "    }\n",
       "</style>\n",
       "<table border=\"1\" class=\"dataframe\">\n",
       "  <thead>\n",
       "    <tr style=\"text-align: right;\">\n",
       "      <th></th>\n",
       "      <th>0</th>\n",
       "      <th>1</th>\n",
       "      <th>2</th>\n",
       "      <th>3</th>\n",
       "      <th>4</th>\n",
       "      <th>5</th>\n",
       "      <th>6</th>\n",
       "      <th>7</th>\n",
       "      <th>8</th>\n",
       "      <th>9</th>\n",
       "      <th>...</th>\n",
       "      <th>122</th>\n",
       "      <th>123</th>\n",
       "      <th>124</th>\n",
       "      <th>125</th>\n",
       "      <th>126</th>\n",
       "      <th>127</th>\n",
       "      <th>128</th>\n",
       "      <th>129</th>\n",
       "      <th>130</th>\n",
       "      <th>131</th>\n",
       "    </tr>\n",
       "  </thead>\n",
       "  <tbody>\n",
       "    <tr>\n",
       "      <th>0</th>\n",
       "      <td>0.443777</td>\n",
       "      <td>0.316884</td>\n",
       "      <td>-0.020502</td>\n",
       "      <td>0.999895</td>\n",
       "      <td>0.441842</td>\n",
       "      <td>0.304294</td>\n",
       "      <td>-0.010059</td>\n",
       "      <td>0.999795</td>\n",
       "      <td>0.441081</td>\n",
       "      <td>0.303641</td>\n",
       "      <td>...</td>\n",
       "      <td>-0.039698</td>\n",
       "      <td>0.97774</td>\n",
       "      <td>0.346646</td>\n",
       "      <td>0.749713</td>\n",
       "      <td>0.096479</td>\n",
       "      <td>0.970817</td>\n",
       "      <td>0.445726</td>\n",
       "      <td>0.762597</td>\n",
       "      <td>-0.070761</td>\n",
       "      <td>0.971945</td>\n",
       "    </tr>\n",
       "  </tbody>\n",
       "</table>\n",
       "<p>1 rows × 132 columns</p>\n",
       "</div>"
      ],
      "text/plain": [
       "        0         1         2         3         4         5         6    \\\n",
       "0  0.443777  0.316884 -0.020502  0.999895  0.441842  0.304294 -0.010059   \n",
       "\n",
       "        7         8         9    ...       122      123       124       125  \\\n",
       "0  0.999795  0.441081  0.303641  ... -0.039698  0.97774  0.346646  0.749713   \n",
       "\n",
       "        126       127       128       129       130       131  \n",
       "0  0.096479  0.970817  0.445726  0.762597 -0.070761  0.971945  \n",
       "\n",
       "[1 rows x 132 columns]"
      ]
     },
     "execution_count": 20,
     "metadata": {},
     "output_type": "execute_result"
    }
   ],
   "source": [
    "df = pd.DataFrame(test_feature_array)\n",
    "df.T"
   ]
  },
  {
   "cell_type": "code",
   "execution_count": null,
   "metadata": {},
   "outputs": [],
   "source": []
  },
  {
   "cell_type": "code",
   "execution_count": null,
   "metadata": {},
   "outputs": [],
   "source": []
  }
 ],
 "metadata": {
  "kernelspec": {
   "display_name": "ski_extract",
   "language": "python",
   "name": "python3"
  },
  "language_info": {
   "codemirror_mode": {
    "name": "ipython",
    "version": 3
   },
   "file_extension": ".py",
   "mimetype": "text/x-python",
   "name": "python",
   "nbconvert_exporter": "python",
   "pygments_lexer": "ipython3",
   "version": "3.12.7"
  }
 },
 "nbformat": 4,
 "nbformat_minor": 2
}
