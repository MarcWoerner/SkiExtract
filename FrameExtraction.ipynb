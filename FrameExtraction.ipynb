{
 "cells": [
  {
   "cell_type": "markdown",
   "metadata": {},
   "source": [
    "### Imports"
   ]
  },
  {
   "cell_type": "code",
   "execution_count": 54,
   "metadata": {},
   "outputs": [],
   "source": [
    "import pandas as pd\n",
    "import numpy as np\n",
    "import plotly.express as px\n",
    "import cv2\n",
    "import json"
   ]
  },
  {
   "cell_type": "markdown",
   "metadata": {},
   "source": [
    "### Make Frame/NN-Input Sized Label Folder  "
   ]
  },
  {
   "cell_type": "code",
   "execution_count": null,
   "metadata": {},
   "outputs": [],
   "source": [
    "json_test_data_path = \"/Users/marcworner/Documents/University/Thesis/SkiExtract/labelFrames.json\"\n",
    "\n",
    "with open(json_test_data_path, 'r') as file:\n",
    "    json_test_data = json.load(file)\n",
    "\n",
    "df = pd.json_normalize(\n",
    "    json_test_data['videos'], \n",
    "    record_path='frame_details', \n",
    "    meta=['videoname'], \n",
    "    sep='_'\n",
    ")"
   ]
  },
  {
   "cell_type": "markdown",
   "metadata": {},
   "source": [
    "### Check how often the screenshot was bigger than video and couldnt be used for templateMatch "
   ]
  },
  {
   "cell_type": "code",
   "execution_count": null,
   "metadata": {},
   "outputs": [
    {
     "data": {
      "application/vnd.plotly.v1+json": {
       "config": {
        "plotlyServerURL": "https://plot.ly"
       },
       "data": [
        {
         "alignmentgroup": "True",
         "bingroup": "x",
         "hovertemplate": "variable=score<br>value=%{x}<br>count=%{y}<extra></extra>",
         "legendgroup": "score",
         "marker": {
          "color": "#636efa",
          "pattern": {
           "shape": ""
          }
         },
         "name": "score",
         "offsetgroup": "score",
         "orientation": "v",
         "showlegend": true,
         "type": "histogram",
         "x": [
          1,
          1,
          1,
          1,
          0,
          0,
          1,
          1,
          1,
          0,
          1,
          1,
          1,
          1,
          1,
          1,
          1,
          1,
          0,
          0,
          1,
          1,
          1,
          0,
          1,
          1,
          1,
          1,
          1,
          1,
          1
         ],
         "xaxis": "x",
         "yaxis": "y"
        }
       ],
       "layout": {
        "barmode": "relative",
        "legend": {
         "title": {
          "text": "variable"
         },
         "tracegroupgap": 0
        },
        "margin": {
         "t": 60
        },
        "template": {
         "data": {
          "bar": [
           {
            "error_x": {
             "color": "#2a3f5f"
            },
            "error_y": {
             "color": "#2a3f5f"
            },
            "marker": {
             "line": {
              "color": "#E5ECF6",
              "width": 0.5
             },
             "pattern": {
              "fillmode": "overlay",
              "size": 10,
              "solidity": 0.2
             }
            },
            "type": "bar"
           }
          ],
          "barpolar": [
           {
            "marker": {
             "line": {
              "color": "#E5ECF6",
              "width": 0.5
             },
             "pattern": {
              "fillmode": "overlay",
              "size": 10,
              "solidity": 0.2
             }
            },
            "type": "barpolar"
           }
          ],
          "carpet": [
           {
            "aaxis": {
             "endlinecolor": "#2a3f5f",
             "gridcolor": "white",
             "linecolor": "white",
             "minorgridcolor": "white",
             "startlinecolor": "#2a3f5f"
            },
            "baxis": {
             "endlinecolor": "#2a3f5f",
             "gridcolor": "white",
             "linecolor": "white",
             "minorgridcolor": "white",
             "startlinecolor": "#2a3f5f"
            },
            "type": "carpet"
           }
          ],
          "choropleth": [
           {
            "colorbar": {
             "outlinewidth": 0,
             "ticks": ""
            },
            "type": "choropleth"
           }
          ],
          "contour": [
           {
            "colorbar": {
             "outlinewidth": 0,
             "ticks": ""
            },
            "colorscale": [
             [
              0,
              "#0d0887"
             ],
             [
              0.1111111111111111,
              "#46039f"
             ],
             [
              0.2222222222222222,
              "#7201a8"
             ],
             [
              0.3333333333333333,
              "#9c179e"
             ],
             [
              0.4444444444444444,
              "#bd3786"
             ],
             [
              0.5555555555555556,
              "#d8576b"
             ],
             [
              0.6666666666666666,
              "#ed7953"
             ],
             [
              0.7777777777777778,
              "#fb9f3a"
             ],
             [
              0.8888888888888888,
              "#fdca26"
             ],
             [
              1,
              "#f0f921"
             ]
            ],
            "type": "contour"
           }
          ],
          "contourcarpet": [
           {
            "colorbar": {
             "outlinewidth": 0,
             "ticks": ""
            },
            "type": "contourcarpet"
           }
          ],
          "heatmap": [
           {
            "colorbar": {
             "outlinewidth": 0,
             "ticks": ""
            },
            "colorscale": [
             [
              0,
              "#0d0887"
             ],
             [
              0.1111111111111111,
              "#46039f"
             ],
             [
              0.2222222222222222,
              "#7201a8"
             ],
             [
              0.3333333333333333,
              "#9c179e"
             ],
             [
              0.4444444444444444,
              "#bd3786"
             ],
             [
              0.5555555555555556,
              "#d8576b"
             ],
             [
              0.6666666666666666,
              "#ed7953"
             ],
             [
              0.7777777777777778,
              "#fb9f3a"
             ],
             [
              0.8888888888888888,
              "#fdca26"
             ],
             [
              1,
              "#f0f921"
             ]
            ],
            "type": "heatmap"
           }
          ],
          "heatmapgl": [
           {
            "colorbar": {
             "outlinewidth": 0,
             "ticks": ""
            },
            "colorscale": [
             [
              0,
              "#0d0887"
             ],
             [
              0.1111111111111111,
              "#46039f"
             ],
             [
              0.2222222222222222,
              "#7201a8"
             ],
             [
              0.3333333333333333,
              "#9c179e"
             ],
             [
              0.4444444444444444,
              "#bd3786"
             ],
             [
              0.5555555555555556,
              "#d8576b"
             ],
             [
              0.6666666666666666,
              "#ed7953"
             ],
             [
              0.7777777777777778,
              "#fb9f3a"
             ],
             [
              0.8888888888888888,
              "#fdca26"
             ],
             [
              1,
              "#f0f921"
             ]
            ],
            "type": "heatmapgl"
           }
          ],
          "histogram": [
           {
            "marker": {
             "pattern": {
              "fillmode": "overlay",
              "size": 10,
              "solidity": 0.2
             }
            },
            "type": "histogram"
           }
          ],
          "histogram2d": [
           {
            "colorbar": {
             "outlinewidth": 0,
             "ticks": ""
            },
            "colorscale": [
             [
              0,
              "#0d0887"
             ],
             [
              0.1111111111111111,
              "#46039f"
             ],
             [
              0.2222222222222222,
              "#7201a8"
             ],
             [
              0.3333333333333333,
              "#9c179e"
             ],
             [
              0.4444444444444444,
              "#bd3786"
             ],
             [
              0.5555555555555556,
              "#d8576b"
             ],
             [
              0.6666666666666666,
              "#ed7953"
             ],
             [
              0.7777777777777778,
              "#fb9f3a"
             ],
             [
              0.8888888888888888,
              "#fdca26"
             ],
             [
              1,
              "#f0f921"
             ]
            ],
            "type": "histogram2d"
           }
          ],
          "histogram2dcontour": [
           {
            "colorbar": {
             "outlinewidth": 0,
             "ticks": ""
            },
            "colorscale": [
             [
              0,
              "#0d0887"
             ],
             [
              0.1111111111111111,
              "#46039f"
             ],
             [
              0.2222222222222222,
              "#7201a8"
             ],
             [
              0.3333333333333333,
              "#9c179e"
             ],
             [
              0.4444444444444444,
              "#bd3786"
             ],
             [
              0.5555555555555556,
              "#d8576b"
             ],
             [
              0.6666666666666666,
              "#ed7953"
             ],
             [
              0.7777777777777778,
              "#fb9f3a"
             ],
             [
              0.8888888888888888,
              "#fdca26"
             ],
             [
              1,
              "#f0f921"
             ]
            ],
            "type": "histogram2dcontour"
           }
          ],
          "mesh3d": [
           {
            "colorbar": {
             "outlinewidth": 0,
             "ticks": ""
            },
            "type": "mesh3d"
           }
          ],
          "parcoords": [
           {
            "line": {
             "colorbar": {
              "outlinewidth": 0,
              "ticks": ""
             }
            },
            "type": "parcoords"
           }
          ],
          "pie": [
           {
            "automargin": true,
            "type": "pie"
           }
          ],
          "scatter": [
           {
            "fillpattern": {
             "fillmode": "overlay",
             "size": 10,
             "solidity": 0.2
            },
            "type": "scatter"
           }
          ],
          "scatter3d": [
           {
            "line": {
             "colorbar": {
              "outlinewidth": 0,
              "ticks": ""
             }
            },
            "marker": {
             "colorbar": {
              "outlinewidth": 0,
              "ticks": ""
             }
            },
            "type": "scatter3d"
           }
          ],
          "scattercarpet": [
           {
            "marker": {
             "colorbar": {
              "outlinewidth": 0,
              "ticks": ""
             }
            },
            "type": "scattercarpet"
           }
          ],
          "scattergeo": [
           {
            "marker": {
             "colorbar": {
              "outlinewidth": 0,
              "ticks": ""
             }
            },
            "type": "scattergeo"
           }
          ],
          "scattergl": [
           {
            "marker": {
             "colorbar": {
              "outlinewidth": 0,
              "ticks": ""
             }
            },
            "type": "scattergl"
           }
          ],
          "scattermapbox": [
           {
            "marker": {
             "colorbar": {
              "outlinewidth": 0,
              "ticks": ""
             }
            },
            "type": "scattermapbox"
           }
          ],
          "scatterpolar": [
           {
            "marker": {
             "colorbar": {
              "outlinewidth": 0,
              "ticks": ""
             }
            },
            "type": "scatterpolar"
           }
          ],
          "scatterpolargl": [
           {
            "marker": {
             "colorbar": {
              "outlinewidth": 0,
              "ticks": ""
             }
            },
            "type": "scatterpolargl"
           }
          ],
          "scatterternary": [
           {
            "marker": {
             "colorbar": {
              "outlinewidth": 0,
              "ticks": ""
             }
            },
            "type": "scatterternary"
           }
          ],
          "surface": [
           {
            "colorbar": {
             "outlinewidth": 0,
             "ticks": ""
            },
            "colorscale": [
             [
              0,
              "#0d0887"
             ],
             [
              0.1111111111111111,
              "#46039f"
             ],
             [
              0.2222222222222222,
              "#7201a8"
             ],
             [
              0.3333333333333333,
              "#9c179e"
             ],
             [
              0.4444444444444444,
              "#bd3786"
             ],
             [
              0.5555555555555556,
              "#d8576b"
             ],
             [
              0.6666666666666666,
              "#ed7953"
             ],
             [
              0.7777777777777778,
              "#fb9f3a"
             ],
             [
              0.8888888888888888,
              "#fdca26"
             ],
             [
              1,
              "#f0f921"
             ]
            ],
            "type": "surface"
           }
          ],
          "table": [
           {
            "cells": {
             "fill": {
              "color": "#EBF0F8"
             },
             "line": {
              "color": "white"
             }
            },
            "header": {
             "fill": {
              "color": "#C8D4E3"
             },
             "line": {
              "color": "white"
             }
            },
            "type": "table"
           }
          ]
         },
         "layout": {
          "annotationdefaults": {
           "arrowcolor": "#2a3f5f",
           "arrowhead": 0,
           "arrowwidth": 1
          },
          "autotypenumbers": "strict",
          "coloraxis": {
           "colorbar": {
            "outlinewidth": 0,
            "ticks": ""
           }
          },
          "colorscale": {
           "diverging": [
            [
             0,
             "#8e0152"
            ],
            [
             0.1,
             "#c51b7d"
            ],
            [
             0.2,
             "#de77ae"
            ],
            [
             0.3,
             "#f1b6da"
            ],
            [
             0.4,
             "#fde0ef"
            ],
            [
             0.5,
             "#f7f7f7"
            ],
            [
             0.6,
             "#e6f5d0"
            ],
            [
             0.7,
             "#b8e186"
            ],
            [
             0.8,
             "#7fbc41"
            ],
            [
             0.9,
             "#4d9221"
            ],
            [
             1,
             "#276419"
            ]
           ],
           "sequential": [
            [
             0,
             "#0d0887"
            ],
            [
             0.1111111111111111,
             "#46039f"
            ],
            [
             0.2222222222222222,
             "#7201a8"
            ],
            [
             0.3333333333333333,
             "#9c179e"
            ],
            [
             0.4444444444444444,
             "#bd3786"
            ],
            [
             0.5555555555555556,
             "#d8576b"
            ],
            [
             0.6666666666666666,
             "#ed7953"
            ],
            [
             0.7777777777777778,
             "#fb9f3a"
            ],
            [
             0.8888888888888888,
             "#fdca26"
            ],
            [
             1,
             "#f0f921"
            ]
           ],
           "sequentialminus": [
            [
             0,
             "#0d0887"
            ],
            [
             0.1111111111111111,
             "#46039f"
            ],
            [
             0.2222222222222222,
             "#7201a8"
            ],
            [
             0.3333333333333333,
             "#9c179e"
            ],
            [
             0.4444444444444444,
             "#bd3786"
            ],
            [
             0.5555555555555556,
             "#d8576b"
            ],
            [
             0.6666666666666666,
             "#ed7953"
            ],
            [
             0.7777777777777778,
             "#fb9f3a"
            ],
            [
             0.8888888888888888,
             "#fdca26"
            ],
            [
             1,
             "#f0f921"
            ]
           ]
          },
          "colorway": [
           "#636efa",
           "#EF553B",
           "#00cc96",
           "#ab63fa",
           "#FFA15A",
           "#19d3f3",
           "#FF6692",
           "#B6E880",
           "#FF97FF",
           "#FECB52"
          ],
          "font": {
           "color": "#2a3f5f"
          },
          "geo": {
           "bgcolor": "white",
           "lakecolor": "white",
           "landcolor": "#E5ECF6",
           "showlakes": true,
           "showland": true,
           "subunitcolor": "white"
          },
          "hoverlabel": {
           "align": "left"
          },
          "hovermode": "closest",
          "mapbox": {
           "style": "light"
          },
          "paper_bgcolor": "white",
          "plot_bgcolor": "#E5ECF6",
          "polar": {
           "angularaxis": {
            "gridcolor": "white",
            "linecolor": "white",
            "ticks": ""
           },
           "bgcolor": "#E5ECF6",
           "radialaxis": {
            "gridcolor": "white",
            "linecolor": "white",
            "ticks": ""
           }
          },
          "scene": {
           "xaxis": {
            "backgroundcolor": "#E5ECF6",
            "gridcolor": "white",
            "gridwidth": 2,
            "linecolor": "white",
            "showbackground": true,
            "ticks": "",
            "zerolinecolor": "white"
           },
           "yaxis": {
            "backgroundcolor": "#E5ECF6",
            "gridcolor": "white",
            "gridwidth": 2,
            "linecolor": "white",
            "showbackground": true,
            "ticks": "",
            "zerolinecolor": "white"
           },
           "zaxis": {
            "backgroundcolor": "#E5ECF6",
            "gridcolor": "white",
            "gridwidth": 2,
            "linecolor": "white",
            "showbackground": true,
            "ticks": "",
            "zerolinecolor": "white"
           }
          },
          "shapedefaults": {
           "line": {
            "color": "#2a3f5f"
           }
          },
          "ternary": {
           "aaxis": {
            "gridcolor": "white",
            "linecolor": "white",
            "ticks": ""
           },
           "baxis": {
            "gridcolor": "white",
            "linecolor": "white",
            "ticks": ""
           },
           "bgcolor": "#E5ECF6",
           "caxis": {
            "gridcolor": "white",
            "linecolor": "white",
            "ticks": ""
           }
          },
          "title": {
           "x": 0.05
          },
          "xaxis": {
           "automargin": true,
           "gridcolor": "white",
           "linecolor": "white",
           "ticks": "",
           "title": {
            "standoff": 15
           },
           "zerolinecolor": "white",
           "zerolinewidth": 2
          },
          "yaxis": {
           "automargin": true,
           "gridcolor": "white",
           "linecolor": "white",
           "ticks": "",
           "title": {
            "standoff": 15
           },
           "zerolinecolor": "white",
           "zerolinewidth": 2
          }
         }
        },
        "xaxis": {
         "anchor": "y",
         "domain": [
          0,
          1
         ],
         "title": {
          "text": "value"
         }
        },
        "yaxis": {
         "anchor": "x",
         "domain": [
          0,
          1
         ],
         "title": {
          "text": "count"
         }
        }
       }
      }
     },
     "metadata": {},
     "output_type": "display_data"
    }
   ],
   "source": [
    "score_df = df[[\"videoname\",\"score\"]].groupby(\"videoname\").mean()\n",
    "score_df[\"score\"] = score_df[\"score\"].round()\n",
    "px.histogram(score_df)"
   ]
  },
  {
   "cell_type": "code",
   "execution_count": null,
   "metadata": {},
   "outputs": [
    {
     "name": "stdout",
     "output_type": "stream",
     "text": [
      "Saved: /Volumes/ThesisUSB/ExtractedFrames/Klauser Hannes_004.jpg\n",
      "Saved: /Volumes/ThesisUSB/ExtractedFrames/Klauser Hannes_005.jpg\n",
      "Saved: /Volumes/ThesisUSB/ExtractedFrames/Klauser Hannes_001.jpg\n",
      "Saved: /Volumes/ThesisUSB/ExtractedFrames/Klauser Hannes_002.jpg\n",
      "Saved: /Volumes/ThesisUSB/ExtractedFrames/Klauser Hannes_003.jpg\n",
      "Saved: /Volumes/ThesisUSB/ExtractedFrames/Niemeyer Felix _005.jpg\n",
      "Saved: /Volumes/ThesisUSB/ExtractedFrames/Niemeyer Felix _004.jpg\n",
      "Saved: /Volumes/ThesisUSB/ExtractedFrames/Niemeyer Felix _003.jpg\n",
      "Saved: /Volumes/ThesisUSB/ExtractedFrames/Niemeyer Felix _002.jpg\n",
      "Saved: /Volumes/ThesisUSB/ExtractedFrames/Niemeyer Felix _001.jpg\n",
      "Saved: /Volumes/ThesisUSB/ExtractedFrames/Niemeyer Linus_005.jpg\n",
      "Saved: /Volumes/ThesisUSB/ExtractedFrames/Niemeyer Linus_004.jpg\n",
      "Saved: /Volumes/ThesisUSB/ExtractedFrames/Niemeyer Linus_001.jpg\n",
      "Saved: /Volumes/ThesisUSB/ExtractedFrames/Niemeyer Linus_003.jpg\n",
      "Saved: /Volumes/ThesisUSB/ExtractedFrames/Niemeyer Linus_002.jpg\n",
      "Saved: /Volumes/ThesisUSB/ExtractedFrames/Lauber Charlotte_002.jpg\n",
      "Saved: /Volumes/ThesisUSB/ExtractedFrames/Lauber Charlotte_003.jpg\n",
      "Saved: /Volumes/ThesisUSB/ExtractedFrames/Lauber Charlotte_001.jpg\n",
      "Saved: /Volumes/ThesisUSB/ExtractedFrames/Lauber Charlotte_004.jpg\n",
      "Saved: /Volumes/ThesisUSB/ExtractedFrames/Lauber Charlotte_005.jpg\n",
      "Saved: /Volumes/ThesisUSB/ExtractedFrames/Wehrle Lukas_004.jpg\n",
      "Saved: /Volumes/ThesisUSB/ExtractedFrames/Wehrle Lukas_005.jpg\n",
      "Saved: /Volumes/ThesisUSB/ExtractedFrames/Wehrle Lukas_002.jpg\n",
      "Saved: /Volumes/ThesisUSB/ExtractedFrames/Wehrle Lukas_003.jpg\n",
      "Saved: /Volumes/ThesisUSB/ExtractedFrames/Wehrle Lukas_001 .jpg\n",
      "Saved: /Volumes/ThesisUSB/ExtractedFrames/Himmelreich Anna_004.jpg\n",
      "Saved: /Volumes/ThesisUSB/ExtractedFrames/Himmelreich Anna_005.jpg\n",
      "Saved: /Volumes/ThesisUSB/ExtractedFrames/Himmelreich Anna_001.jpg\n",
      "Saved: /Volumes/ThesisUSB/ExtractedFrames/Himmelreich Anna_002.jpg\n",
      "Saved: /Volumes/ThesisUSB/ExtractedFrames/Himmelreich Anna_003.jpg\n",
      "Saved: /Volumes/ThesisUSB/ExtractedFrames/Speicher Paul_005.jpg\n",
      "Saved: /Volumes/ThesisUSB/ExtractedFrames/Speicher Paul_004.jpg\n",
      "Saved: /Volumes/ThesisUSB/ExtractedFrames/Speicher Paul_001.jpg\n",
      "Saved: /Volumes/ThesisUSB/ExtractedFrames/Speicher Paul_003.jpg\n",
      "Saved: /Volumes/ThesisUSB/ExtractedFrames/Speicher Paul_002.jpg\n",
      "Saved: /Volumes/ThesisUSB/ExtractedFrames/Deimel Lasse_004.jpg\n",
      "Saved: /Volumes/ThesisUSB/ExtractedFrames/Deimel Lasse_005.jpg\n",
      "Saved: /Volumes/ThesisUSB/ExtractedFrames/Deimel Lasse_001.jpg\n",
      "Saved: /Volumes/ThesisUSB/ExtractedFrames/Deimel Lasse_002.jpg\n",
      "Saved: /Volumes/ThesisUSB/ExtractedFrames/Deimel Lasse_003.jpg\n",
      "Saved: /Volumes/ThesisUSB/ExtractedFrames/Sonntag Janne_004.jpg\n",
      "Saved: /Volumes/ThesisUSB/ExtractedFrames/Sonntag Janne_005.jpg\n",
      "Saved: /Volumes/ThesisUSB/ExtractedFrames/Sonntag Janne_001.jpg\n",
      "Saved: /Volumes/ThesisUSB/ExtractedFrames/Sonntag Janne_002.jpg\n",
      "Saved: /Volumes/ThesisUSB/ExtractedFrames/Sonntag Janne_003.jpg\n",
      "Saved: /Volumes/ThesisUSB/ExtractedFrames/Mammey Max_004.jpg\n",
      "Saved: /Volumes/ThesisUSB/ExtractedFrames/Mammey Max_005.jpg\n",
      "Saved: /Volumes/ThesisUSB/ExtractedFrames/Mammey Max_002.jpg\n",
      "Saved: /Volumes/ThesisUSB/ExtractedFrames/Mammey Max_003.jpg\n",
      "Saved: /Volumes/ThesisUSB/ExtractedFrames/Mammey Max_001.jpg\n",
      "Saved: /Volumes/ThesisUSB/ExtractedFrames/Hermann Noemi_005.jpg\n",
      "Saved: /Volumes/ThesisUSB/ExtractedFrames/Hermann Noemi_004.jpg\n",
      "Saved: /Volumes/ThesisUSB/ExtractedFrames/Hermann Noemi_001.jpg\n",
      "Saved: /Volumes/ThesisUSB/ExtractedFrames/Hermann Noemi_003.jpg\n",
      "Saved: /Volumes/ThesisUSB/ExtractedFrames/Hermann Noemi_002.jpg\n",
      "Saved: /Volumes/ThesisUSB/ExtractedFrames/Hennecke Nele_004.jpg\n",
      "Saved: /Volumes/ThesisUSB/ExtractedFrames/Hennecke Nele_005.jpg\n",
      "Saved: /Volumes/ThesisUSB/ExtractedFrames/Hennecke Nele_001.jpg\n",
      "Saved: /Volumes/ThesisUSB/ExtractedFrames/Hennecke Nele_002.jpg\n",
      "Saved: /Volumes/ThesisUSB/ExtractedFrames/Hennecke Nele_003.jpg\n",
      "Saved: /Volumes/ThesisUSB/ExtractedFrames/Uhr Maximilian_004.jpg\n",
      "Saved: /Volumes/ThesisUSB/ExtractedFrames/Uhr Maximilian_005.jpg\n",
      "Saved: /Volumes/ThesisUSB/ExtractedFrames/Uhr Maximilian_002.jpg\n",
      "Saved: /Volumes/ThesisUSB/ExtractedFrames/Uhr Maximilian_003.jpg\n",
      "Saved: /Volumes/ThesisUSB/ExtractedFrames/Uhr Maximilian_001.jpg\n",
      "Saved: /Volumes/ThesisUSB/ExtractedFrames/Zimmermann Oscar_005.jpg\n",
      "Saved: /Volumes/ThesisUSB/ExtractedFrames/Zimmermann Oscar_004.jpg\n",
      "Saved: /Volumes/ThesisUSB/ExtractedFrames/Zimmermann Oscar_001.jpg\n",
      "Saved: /Volumes/ThesisUSB/ExtractedFrames/Zimmermann Oscar_003.jpg\n",
      "Saved: /Volumes/ThesisUSB/ExtractedFrames/Zimmermann Oscar_002.jpg\n",
      "Saved: /Volumes/ThesisUSB/ExtractedFrames/Armbruster Nathalie  _001.jpg\n",
      "Saved: /Volumes/ThesisUSB/ExtractedFrames/Armbruster Nathalie  _002.jpg\n",
      "Saved: /Volumes/ThesisUSB/ExtractedFrames/Armbruster Nathalie  _003.jpg\n",
      "Saved: /Volumes/ThesisUSB/ExtractedFrames/Armbruster Nathalie  _004.jpg\n",
      "Saved: /Volumes/ThesisUSB/ExtractedFrames/Armbruster Nathalie  _005.jpg\n",
      "Saved: /Volumes/ThesisUSB/ExtractedFrames/Linner Mario_002.jpg\n",
      "Saved: /Volumes/ThesisUSB/ExtractedFrames/Linner Mario_003.jpg\n",
      "Saved: /Volumes/ThesisUSB/ExtractedFrames/Linner Mario_001.jpg\n",
      "Saved: /Volumes/ThesisUSB/ExtractedFrames/Linner Mario_004.jpg\n",
      "Saved: /Volumes/ThesisUSB/ExtractedFrames/Linner Mario_005.jpg\n",
      "Saved: /Volumes/ThesisUSB/ExtractedFrames/Riedl Kilian_004.jpg\n",
      "Saved: /Volumes/ThesisUSB/ExtractedFrames/Riedl Kilian_005.jpg\n",
      "Saved: /Volumes/ThesisUSB/ExtractedFrames/Riedl Kilian_001.jpg\n",
      "Saved: /Volumes/ThesisUSB/ExtractedFrames/Riedl Kilian_002.jpg\n",
      "Saved: /Volumes/ThesisUSB/ExtractedFrames/Riedl Kilian_003.jpg\n",
      "Saved: /Volumes/ThesisUSB/ExtractedFrames/Ketterer Mika_003.jpg\n",
      "Saved: /Volumes/ThesisUSB/ExtractedFrames/Ketterer Mika_002.jpg\n",
      "Saved: /Volumes/ThesisUSB/ExtractedFrames/Ketterer Mika_001.jpg\n",
      "Saved: /Volumes/ThesisUSB/ExtractedFrames/Ketterer Mika_005.jpg\n",
      "Saved: /Volumes/ThesisUSB/ExtractedFrames/Ketterer Mika_004.jpg\n",
      "Saved: /Volumes/ThesisUSB/ExtractedFrames/Finkbeiner Nina  _005.jpg\n",
      "Saved: /Volumes/ThesisUSB/ExtractedFrames/Finkbeiner Nina  _004.jpg\n",
      "Saved: /Volumes/ThesisUSB/ExtractedFrames/Finkbeiner Nina  _003.jpg\n",
      "Saved: /Volumes/ThesisUSB/ExtractedFrames/Finkbeiner Nina  _002.jpg\n",
      "Saved: /Volumes/ThesisUSB/ExtractedFrames/Finkbeiner Nina  _001.jpg\n",
      "Saved: /Volumes/ThesisUSB/ExtractedFrames/Adam Theo _002.jpg\n",
      "Saved: /Volumes/ThesisUSB/ExtractedFrames/Adam Theo _003.jpg\n",
      "Saved: /Volumes/ThesisUSB/ExtractedFrames/Adam Theo _001.jpg\n",
      "Saved: /Volumes/ThesisUSB/ExtractedFrames/Adam Theo _004.jpg\n",
      "Saved: /Volumes/ThesisUSB/ExtractedFrames/Adam Theo _005.jpg\n",
      "Saved: /Volumes/ThesisUSB/ExtractedFrames/Ketterer Nico_003.jpg\n",
      "Saved: /Volumes/ThesisUSB/ExtractedFrames/Ketterer Nico_002.jpg\n",
      "Saved: /Volumes/ThesisUSB/ExtractedFrames/Ketterer Nico_001.jpg\n",
      "Saved: /Volumes/ThesisUSB/ExtractedFrames/Ketterer Nico_005.jpg\n",
      "Saved: /Volumes/ThesisUSB/ExtractedFrames/Ketterer Nico_004.jpg\n",
      "Saved: /Volumes/ThesisUSB/ExtractedFrames/Ketterer Colin_002.jpg\n",
      "Saved: /Volumes/ThesisUSB/ExtractedFrames/Ketterer Colin_003.jpg\n",
      "Saved: /Volumes/ThesisUSB/ExtractedFrames/Ketterer Colin_001.jpg\n",
      "Saved: /Volumes/ThesisUSB/ExtractedFrames/Ketterer Colin_004.jpg\n",
      "Saved: /Volumes/ThesisUSB/ExtractedFrames/Ketterer Colin_005.jpg\n",
      "Saved: /Volumes/ThesisUSB/ExtractedFrames/Schmelzle Janne_004.jpg\n",
      "Saved: /Volumes/ThesisUSB/ExtractedFrames/Schmelzle Janne_005.jpg\n",
      "Saved: /Volumes/ThesisUSB/ExtractedFrames/Schmelzle Janne_002.jpg\n",
      "Saved: /Volumes/ThesisUSB/ExtractedFrames/Schmelzle Janne_003.jpg\n",
      "Saved: /Volumes/ThesisUSB/ExtractedFrames/Schmelzle Janne_001.jpg\n",
      "Saved: /Volumes/ThesisUSB/ExtractedFrames/Klumpp Fabienne_001.jpg\n",
      "Saved: /Volumes/ThesisUSB/ExtractedFrames/Klumpp Fabienne_003.jpg\n",
      "Saved: /Volumes/ThesisUSB/ExtractedFrames/Klumpp Fabienne_002.jpg\n",
      "Saved: /Volumes/ThesisUSB/ExtractedFrames/Klumpp Fabienne_005.jpg\n",
      "Saved: /Volumes/ThesisUSB/ExtractedFrames/Klumpp Fabienne_004.jpg\n",
      "Saved: /Volumes/ThesisUSB/ExtractedFrames/Uhlig Niklas_003.jpg\n",
      "Saved: /Volumes/ThesisUSB/ExtractedFrames/Uhlig Niklas_002.jpg\n",
      "Saved: /Volumes/ThesisUSB/ExtractedFrames/Uhlig Niklas_001.jpg\n",
      "Saved: /Volumes/ThesisUSB/ExtractedFrames/Uhlig Niklas_005.jpg\n",
      "Saved: /Volumes/ThesisUSB/ExtractedFrames/Uhlig Niklas_004.jpg\n"
     ]
    }
   ],
   "source": [
    "import re\n",
    "import os\n",
    "\n",
    "video_path = \"/Volumes/ThesisUSB/AVP XC Skiing Data/Skating 2-1 armswing/videos/lateral/\"\n",
    "output_directory = \"/Volumes/ThesisUSB/AVP XC Skiing Data/Skating 2-1 armswing/\"\n",
    "\n",
    "os.makedirs(output_directory, exist_ok=True)\n",
    "\n",
    "for i in range(len(df)):\n",
    "    if df[\"score\"][i] != 0:\n",
    "        current_frame = df[\"frame_number\"][i]\n",
    "        current_video = video_path + df[\"videoname\"][i]\n",
    "        current_image_name = df[\"image_name\"][i]\n",
    "        filename_without_extension = os.path.splitext(current_image_name)[0]\n",
    "\n",
    "        output_frame_path = os.path.join(output_directory, f\"{filename_without_extension}.jpg\")\n",
    "\n",
    "        cap = cv2.VideoCapture(current_video)\n",
    "        cap.set(cv2.CAP_PROP_POS_FRAMES, current_frame)\n",
    "        ret, extracted_frame = cap.read()\n",
    "\n",
    "        if ret:\n",
    "            # Save the extracted frame\n",
    "            cv2.imwrite(output_frame_path, extracted_frame)\n",
    "            print(f\"Saved: {output_frame_path}\")\n",
    "        else:\n",
    "            print(f\"Failed to extract frame {current_frame} from {current_video}\")\n",
    "\n",
    "        cap.release()\n",
    "\n"
   ]
  }
 ],
 "metadata": {
  "kernelspec": {
   "display_name": "ski_extract",
   "language": "python",
   "name": "python3"
  },
  "language_info": {
   "codemirror_mode": {
    "name": "ipython",
    "version": 3
   },
   "file_extension": ".py",
   "mimetype": "text/x-python",
   "name": "python",
   "nbconvert_exporter": "python",
   "pygments_lexer": "ipython3",
   "version": "3.12.7"
  }
 },
 "nbformat": 4,
 "nbformat_minor": 2
}
